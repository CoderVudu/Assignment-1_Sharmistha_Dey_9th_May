{
  "nbformat": 4,
  "nbformat_minor": 0,
  "metadata": {
    "colab": {
      "provenance": [],
      "include_colab_link": true
    },
    "kernelspec": {
      "name": "python3",
      "display_name": "Python 3"
    },
    "language_info": {
      "name": "python"
    }
  },
  "cells": [
    {
      "cell_type": "markdown",
      "metadata": {
        "id": "view-in-github",
        "colab_type": "text"
      },
      "source": [
        "<a href=\"https://colab.research.google.com/github/CoderVudu/Assignment-1_Sharmistha_Dey_9th_May/blob/main/Assignment_2_Sharmistha_Dey_15th_May.ipynb\" target=\"_parent\"><img src=\"https://colab.research.google.com/assets/colab-badge.svg\" alt=\"Open In Colab\"/></a>"
      ]
    },
    {
      "cell_type": "markdown",
      "source": [
        "Q1. How do you comment code in Python? What are the different types of comments?\n"
      ],
      "metadata": {
        "id": "Zeljkwz4CCAa"
      }
    },
    {
      "cell_type": "code",
      "source": [
        "\"\"\"Single-line comment: Use the # symbol.\n",
        "Example:\n",
        "\n",
        "# This is a single-line comment\n",
        "Multi-line comment (conventionally): Use triple quotes ''' or \"\"\".\n",
        "Example:\n",
        "'''\n",
        "This is a multi-line comment.\n",
        "It spans across several lines.\n",
        "'''\n",
        "\"\"\""
      ],
      "metadata": {
        "id": "1pPuJQXoG8s8"
      },
      "execution_count": null,
      "outputs": []
    },
    {
      "cell_type": "markdown",
      "source": [
        "Q2. What are variables in Python? How do you declare and assign values to variables?\n"
      ],
      "metadata": {
        "id": "sjycfxQzCFQb"
      }
    },
    {
      "cell_type": "code",
      "source": [
        "'''Variables are containers used to store data values.\n",
        "\n",
        "No need to declare the data type explicitly in Python.\n",
        "\n",
        "Example:'''\n",
        "\n",
        "\n",
        "x = 10           # Integer\n",
        "name = \"Alice\"   # String\n",
        "pi = 3.14        # Float"
      ],
      "metadata": {
        "id": "dNEUjiBuD2js"
      },
      "execution_count": null,
      "outputs": []
    },
    {
      "cell_type": "markdown",
      "source": [
        "Q3. How do you convert one data type to another in Python?\n"
      ],
      "metadata": {
        "id": "uTmSgmhCCGjX"
      }
    },
    {
      "cell_type": "code",
      "source": [
        "x = 10\n",
        "str_x = str(x)     # Convert int to string\n",
        "float_x = float(x) # Convert int to float\n",
        "int_x = int(\"5\")   # Convert string to int\n"
      ],
      "metadata": {
        "id": "de1f6cC7D_ZV"
      },
      "execution_count": null,
      "outputs": []
    },
    {
      "cell_type": "markdown",
      "source": [
        "Q4. How do you write and execute a Python script from the command line?\n"
      ],
      "metadata": {
        "id": "1Qoh8TfyCIPv"
      }
    },
    {
      "cell_type": "code",
      "source": [
        "'''Create a Python file (e.g., script.py) with some code.\n",
        "Open command line and navigate to the file’s directory.\n",
        "\n",
        "\n",
        "\n",
        "\n",
        "python script.py'''"
      ],
      "metadata": {
        "colab": {
          "base_uri": "https://localhost:8080/",
          "height": 36
        },
        "id": "AxqD3ethEALH",
        "outputId": "0d521518-f2fb-4f80-bc68-d92acdff5d2d"
      },
      "execution_count": null,
      "outputs": [
        {
          "output_type": "execute_result",
          "data": {
            "text/plain": [
              "'Create a Python file (e.g., script.py) with some code.\\nOpen command line and navigate to the file’s directory.\\n\\n\\n\\n\\npython script.py'"
            ],
            "application/vnd.google.colaboratory.intrinsic+json": {
              "type": "string"
            }
          },
          "metadata": {},
          "execution_count": 6
        }
      ]
    },
    {
      "cell_type": "markdown",
      "source": [
        "Q5. Given a list my_list = [1, 2, 3, 4, 5], write the code to slice the list and obtain the sub-list [2, 3].\n"
      ],
      "metadata": {
        "id": "9fyeZpKpCJhl"
      }
    },
    {
      "cell_type": "code",
      "source": [
        "my_list = [1, 2, 3, 4, 5]\n",
        "sub_list = my_list[1:3]\n",
        "print(sub_list)\n"
      ],
      "metadata": {
        "colab": {
          "base_uri": "https://localhost:8080/"
        },
        "id": "nEU5fS3rEAoB",
        "outputId": "55365fb9-d26c-4937-f28b-b7c9de515de7"
      },
      "execution_count": null,
      "outputs": [
        {
          "output_type": "stream",
          "name": "stdout",
          "text": [
            "[2, 3]\n"
          ]
        }
      ]
    },
    {
      "cell_type": "markdown",
      "source": [
        "Q6. What is a complex number in mathematics, and how is it represented in Python?\n"
      ],
      "metadata": {
        "id": "Qm5JnjQKCKtz"
      }
    },
    {
      "cell_type": "code",
      "source": [
        "num = 2 + 3j\n",
        "print(type(num))\n"
      ],
      "metadata": {
        "colab": {
          "base_uri": "https://localhost:8080/"
        },
        "id": "kizaOhzfEA70",
        "outputId": "3f62b9c9-edb0-4709-a82d-f8d49b855d45"
      },
      "execution_count": null,
      "outputs": [
        {
          "output_type": "stream",
          "name": "stdout",
          "text": [
            "<class 'complex'>\n"
          ]
        }
      ]
    },
    {
      "cell_type": "markdown",
      "source": [
        "Q7. What is the correct way to declare a variable named age and assign the value 25 to it?\n"
      ],
      "metadata": {
        "id": "BSdT6xvMCMCv"
      }
    },
    {
      "cell_type": "code",
      "source": [
        "age = 25\n"
      ],
      "metadata": {
        "id": "ulIULaQQEBM_"
      },
      "execution_count": null,
      "outputs": []
    },
    {
      "cell_type": "markdown",
      "source": [
        "Q8. Declare a variable named price and assign the value 9.99 to it. What data type does this variable\n",
        "belong to?\n"
      ],
      "metadata": {
        "id": "UGOWWrf1CNMW"
      }
    },
    {
      "cell_type": "code",
      "source": [
        "price = 9.99\n",
        "print(type(price))"
      ],
      "metadata": {
        "colab": {
          "base_uri": "https://localhost:8080/"
        },
        "id": "oOsTH_OsEBmn",
        "outputId": "eedbd3f9-9598-40bc-92a8-9b04b59bd6ae"
      },
      "execution_count": null,
      "outputs": [
        {
          "output_type": "stream",
          "name": "stdout",
          "text": [
            "<class 'float'>\n"
          ]
        }
      ]
    },
    {
      "cell_type": "markdown",
      "source": [
        "Q9. Create a variable named name and assign your full name to it as a string. How would you print the\n",
        "value of this variable?\n"
      ],
      "metadata": {
        "id": "VWscUOliCOrs"
      }
    },
    {
      "cell_type": "code",
      "source": [
        "name = \"John Doe\"\n",
        "print(name)\n"
      ],
      "metadata": {
        "colab": {
          "base_uri": "https://localhost:8080/"
        },
        "id": "dYbqFCUPECCx",
        "outputId": "4005f9b4-4183-479f-cc00-3376404e7bd0"
      },
      "execution_count": null,
      "outputs": [
        {
          "output_type": "stream",
          "name": "stdout",
          "text": [
            "John Doe\n"
          ]
        }
      ]
    },
    {
      "cell_type": "markdown",
      "source": [
        "Q10. Given the string \"Hello, World!\", extract the substring \"World\".\n"
      ],
      "metadata": {
        "id": "bjwnWKuaCPvm"
      }
    },
    {
      "cell_type": "code",
      "source": [
        "text = \"Hello, World!\"\n",
        "substring = text[7:12]\n",
        "print(substring)\n"
      ],
      "metadata": {
        "colab": {
          "base_uri": "https://localhost:8080/"
        },
        "id": "1FwdoioIECTC",
        "outputId": "cf70cbc7-fe54-4750-939a-a96d3cd585cf"
      },
      "execution_count": null,
      "outputs": [
        {
          "output_type": "stream",
          "name": "stdout",
          "text": [
            "World\n"
          ]
        }
      ]
    },
    {
      "cell_type": "markdown",
      "source": [
        "Q11. Create a variable named \"is_student\" and assign it a boolean value indicating whether you are\n",
        "currently a student or not."
      ],
      "metadata": {
        "id": "GNA9LuuZCQ4K"
      }
    },
    {
      "cell_type": "code",
      "source": [
        "is_student = True  # or False depending on your situation\n"
      ],
      "metadata": {
        "id": "gFLD2vjoEDFM"
      },
      "execution_count": null,
      "outputs": []
    }
  ]
}