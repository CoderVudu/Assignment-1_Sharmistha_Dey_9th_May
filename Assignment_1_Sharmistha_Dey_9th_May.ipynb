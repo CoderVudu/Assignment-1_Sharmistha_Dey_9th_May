{
  "nbformat": 4,
  "nbformat_minor": 0,
  "metadata": {
    "colab": {
      "provenance": [],
      "include_colab_link": true
    },
    "kernelspec": {
      "name": "python3",
      "display_name": "Python 3"
    },
    "language_info": {
      "name": "python"
    }
  },
  "cells": [
    {
      "cell_type": "markdown",
      "metadata": {
        "id": "view-in-github",
        "colab_type": "text"
      },
      "source": [
        "<a href=\"https://colab.research.google.com/github/CoderVudu/Assignment-1_Sharmistha_Dey_9th_May/blob/main/Assignment_1_Sharmistha_Dey_9th_May.ipynb\" target=\"_parent\"><img src=\"https://colab.research.google.com/assets/colab-badge.svg\" alt=\"Open In Colab\"/></a>"
      ]
    },
    {
      "cell_type": "markdown",
      "source": [
        "Q1. Create one variable containing following type of data:\n",
        "(i) string\n",
        "(ii) list\n",
        "(iii) float\n",
        "(iv) tuple\n"
      ],
      "metadata": {
        "id": "co0N8Q77vtfp"
      }
    },
    {
      "cell_type": "code",
      "source": [
        "# (i) string\n",
        "my_string = \"Hello, World!\"\n",
        "\n",
        "# (ii) list\n",
        "my_list = [1, 2, 3, 4, 5]\n",
        "\n",
        "# (iii) float\n",
        "my_float = 3.14\n",
        "\n",
        "# (iv) tuple\n",
        "my_tuple = (10, 20, 30)\n"
      ],
      "metadata": {
        "id": "qOkugSI9wK9u"
      },
      "execution_count": null,
      "outputs": []
    },
    {
      "cell_type": "markdown",
      "source": [
        "Q2. Given are some following variables containing data:\n",
        "(i) var1 = ‘ ‘\n",
        "(ii) var2 = ‘[ DS , ML , Python]’\n",
        "(iii) var3 = [ ‘DS’ , ’ML’ , ‘Python’ ]\n",
        "(iv) var4 = 1.\n",
        "What will be the data type of the above given variable."
      ],
      "metadata": {
        "id": "gzigDHXtvzs6"
      }
    },
    {
      "cell_type": "code",
      "source": [
        "var1 = ''             # string\n",
        "var2 = '[ DS , ML , Python]'  # string\n",
        "var3 = ['DS', 'ML', 'Python'] # list\n",
        "var4 = 1.             # float\n"
      ],
      "metadata": {
        "id": "VH3bjXcpwMTb"
      },
      "execution_count": null,
      "outputs": []
    },
    {
      "cell_type": "markdown",
      "source": [
        "Q3. Explain the use of the following operators using an example:\n",
        "(i) /\n",
        "(ii) %\n",
        "(iii) //\n",
        "(iv) **\n"
      ],
      "metadata": {
        "id": "APYiyKFAv4FH"
      }
    },
    {
      "cell_type": "code",
      "source": [
        "result = 10 / 3\n",
        "print(result)\n"
      ],
      "metadata": {
        "colab": {
          "base_uri": "https://localhost:8080/"
        },
        "id": "afdFG9_6wOmt",
        "outputId": "4173a1dd-5c0c-4699-e361-04187a9b2ee8"
      },
      "execution_count": null,
      "outputs": [
        {
          "output_type": "stream",
          "name": "stdout",
          "text": [
            "3.3333333333333335\n"
          ]
        }
      ]
    },
    {
      "cell_type": "code",
      "source": [
        "remainder = 10 % 3\n",
        "print(remainder)\n"
      ],
      "metadata": {
        "colab": {
          "base_uri": "https://localhost:8080/"
        },
        "id": "sgVTWTrawexU",
        "outputId": "86e1a8f1-673e-42f3-bffb-c390f271e19e"
      },
      "execution_count": null,
      "outputs": [
        {
          "output_type": "stream",
          "name": "stdout",
          "text": [
            "1\n"
          ]
        }
      ]
    },
    {
      "cell_type": "code",
      "source": [
        "quotient = 10 // 3\n",
        "print(quotient)\n"
      ],
      "metadata": {
        "colab": {
          "base_uri": "https://localhost:8080/"
        },
        "id": "QZ_AuF9fweku",
        "outputId": "d601da62-30b2-4f97-c7af-48f613751c3a"
      },
      "execution_count": null,
      "outputs": [
        {
          "output_type": "stream",
          "name": "stdout",
          "text": [
            "3\n"
          ]
        }
      ]
    },
    {
      "cell_type": "code",
      "source": [
        "power = 2 ** 3\n",
        "print(power)"
      ],
      "metadata": {
        "colab": {
          "base_uri": "https://localhost:8080/"
        },
        "id": "iJ4ivK5eweSh",
        "outputId": "112ad450-6ada-4707-f624-6a75cf656ddb"
      },
      "execution_count": null,
      "outputs": [
        {
          "output_type": "stream",
          "name": "stdout",
          "text": [
            "8\n"
          ]
        }
      ]
    },
    {
      "cell_type": "markdown",
      "source": [
        "Q4. Create a list of length 10 of your choice containing multiple types of data. Using for loop print the\n",
        "element and its data type.\n"
      ],
      "metadata": {
        "id": "fdFh61gIv6a2"
      }
    },
    {
      "cell_type": "code",
      "source": [
        "my_list = [1, \"hello\", 3.14, True, [1, 2, 3], ('a', 'b'), {'key': 'value'}, None, 5, 'world']\n",
        "\n",
        "for element in my_list:\n",
        "    print(f\"Element: {element}, Type: {type(element)}\")\n"
      ],
      "metadata": {
        "colab": {
          "base_uri": "https://localhost:8080/"
        },
        "id": "9I4vPleVwWCi",
        "outputId": "a235ed82-9da0-42c1-9d80-f9c7ca8f678f"
      },
      "execution_count": null,
      "outputs": [
        {
          "output_type": "stream",
          "name": "stdout",
          "text": [
            "Element: 1, Type: <class 'int'>\n",
            "Element: hello, Type: <class 'str'>\n",
            "Element: 3.14, Type: <class 'float'>\n",
            "Element: True, Type: <class 'bool'>\n",
            "Element: [1, 2, 3], Type: <class 'list'>\n",
            "Element: ('a', 'b'), Type: <class 'tuple'>\n",
            "Element: {'key': 'value'}, Type: <class 'dict'>\n",
            "Element: None, Type: <class 'NoneType'>\n",
            "Element: 5, Type: <class 'int'>\n",
            "Element: world, Type: <class 'str'>\n"
          ]
        }
      ]
    },
    {
      "cell_type": "markdown",
      "source": [
        "Q5. Using a while loop, verify if the number A is purely divisible by number B and if so then how many\n",
        "times it can be divisible.\n"
      ],
      "metadata": {
        "id": "QjWqEft_v7_P"
      }
    },
    {
      "cell_type": "code",
      "source": [
        "A = 30\n",
        "B = 6\n",
        "count = 0\n",
        "\n",
        "while A % B == 0:\n",
        "    A /= B\n",
        "    count += 1\n",
        "\n",
        "print(f\"{A} is divisible by {B} {count} times.\")\n"
      ],
      "metadata": {
        "colab": {
          "base_uri": "https://localhost:8080/"
        },
        "id": "b4g2kt5vwYfM",
        "outputId": "59aeb0aa-2206-4ca8-c629-fd39793520a2"
      },
      "execution_count": null,
      "outputs": [
        {
          "output_type": "stream",
          "name": "stdout",
          "text": [
            "5.0 is divisible by 6 1 times.\n"
          ]
        }
      ]
    },
    {
      "cell_type": "markdown",
      "source": [
        "Q6. Create a list containing 25 int type data. Using for loop and if-else condition print if the element is\n",
        "divisible by 3 or not.\n"
      ],
      "metadata": {
        "id": "dFxQTXK6v9OM"
      }
    },
    {
      "cell_type": "code",
      "source": [
        "my_numbers = list(range(1, 26))\n",
        "\n",
        "for num in my_numbers:\n",
        "    if num % 3 == 0:\n",
        "        print(f\"{num} is divisible by 3.\")\n",
        "    else:\n",
        "        print(f\"{num} is not divisible by 3.\")\n"
      ],
      "metadata": {
        "colab": {
          "base_uri": "https://localhost:8080/"
        },
        "id": "KvPEzrY8wY2m",
        "outputId": "217e81f3-df90-4dd9-dd42-361a97b7aa23"
      },
      "execution_count": null,
      "outputs": [
        {
          "output_type": "stream",
          "name": "stdout",
          "text": [
            "1 is not divisible by 3.\n",
            "2 is not divisible by 3.\n",
            "3 is divisible by 3.\n",
            "4 is not divisible by 3.\n",
            "5 is not divisible by 3.\n",
            "6 is divisible by 3.\n",
            "7 is not divisible by 3.\n",
            "8 is not divisible by 3.\n",
            "9 is divisible by 3.\n",
            "10 is not divisible by 3.\n",
            "11 is not divisible by 3.\n",
            "12 is divisible by 3.\n",
            "13 is not divisible by 3.\n",
            "14 is not divisible by 3.\n",
            "15 is divisible by 3.\n",
            "16 is not divisible by 3.\n",
            "17 is not divisible by 3.\n",
            "18 is divisible by 3.\n",
            "19 is not divisible by 3.\n",
            "20 is not divisible by 3.\n",
            "21 is divisible by 3.\n",
            "22 is not divisible by 3.\n",
            "23 is not divisible by 3.\n",
            "24 is divisible by 3.\n",
            "25 is not divisible by 3.\n"
          ]
        }
      ]
    },
    {
      "cell_type": "markdown",
      "source": [
        "Q7. What do you understand about mutable and immutable data types? Give examples for both showing\n",
        "this property."
      ],
      "metadata": {
        "id": "a8aDPrdTv-MZ"
      }
    },
    {
      "cell_type": "markdown",
      "source": [
        "__Immutable:__ Objects whose state cannot be modified after creation are immutable. Examples include integers, floats, strings, tuples. If you modify these types, you actually create a new object."
      ],
      "metadata": {
        "id": "S4BPZ4VzwzNP"
      }
    },
    {
      "cell_type": "code",
      "source": [
        "my_string = \"Hello\"\n",
        "my_string += \" World\"  # Creates a new string object\n",
        "\n",
        "my_tuple = (1, 2, 3)\n",
        "\n"
      ],
      "metadata": {
        "id": "Pgb4gH4AwZWV"
      },
      "execution_count": null,
      "outputs": []
    },
    {
      "cell_type": "markdown",
      "source": [
        "__Mutable:__ Objects that can be modified after creation are mutable. Examples include lists, dictionaries, sets. Modifications directly affect the object's state without creating a new object."
      ],
      "metadata": {
        "id": "cQ2uxkhSw2IM"
      }
    },
    {
      "cell_type": "code",
      "source": [
        "my_list = [1, 2, 3]\n",
        "my_list.append(4)  # Modifies the existing list\n",
        "\n",
        "my_dict = {'key': 'value'}\n",
        "my_dict['new_key'] = 'new_value'  # Modifies the existing dictionary\n"
      ],
      "metadata": {
        "id": "GQVUSeyWww5I"
      },
      "execution_count": null,
      "outputs": []
    }
  ]
}